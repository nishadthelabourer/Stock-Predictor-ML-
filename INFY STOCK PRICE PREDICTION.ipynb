{
 "cells": [
  {
   "cell_type": "code",
   "execution_count": 1,
   "metadata": {},
   "outputs": [],
   "source": [
    "import numpy as np\n",
    "import matplotlib.pyplot as plt\n",
    "import pandas as pd\n",
    "from sklearn.preprocessing import MinMaxScaler\n",
    "from tensorflow.keras import Sequential\n",
    "from tensorflow.keras.layers import Dense, LSTM, Dropout"
   ]
  },
  {
   "cell_type": "code",
   "execution_count": 2,
   "metadata": {},
   "outputs": [],
   "source": [
    "data = pd.read_csv('C:/Users/admin/Videos/Equity-INFY-EQ-03-01-2019-to-03-01-2020.csv', parse_dates=[0], index_col=[0])"
   ]
  },
  {
   "cell_type": "code",
   "execution_count": 3,
   "metadata": {},
   "outputs": [],
   "source": [
    "df = data[['Close']]"
   ]
  },
  {
   "cell_type": "code",
   "execution_count": 4,
   "metadata": {},
   "outputs": [],
   "source": [
    "data_training = df.loc['2019-10-30':'2019-01-03',:]['Close']\n",
    "data_test = df.loc['2020-01-03':'2019-10-31',:]['Close']"
   ]
  },
  {
   "cell_type": "code",
   "execution_count": 5,
   "metadata": {},
   "outputs": [],
   "source": [
    "x_train = []\n",
    "y_train = []"
   ]
  },
  {
   "cell_type": "code",
   "execution_count": 6,
   "metadata": {},
   "outputs": [],
   "source": [
    "for i in range(5, len(data_training)-5):\n",
    "    x_train.append(data_training[i-5:i])\n",
    "    y_train.append(data_training[i:i+5])"
   ]
  },
  {
   "cell_type": "code",
   "execution_count": 7,
   "metadata": {},
   "outputs": [],
   "source": [
    "x_test = []\n",
    "y_test = []"
   ]
  },
  {
   "cell_type": "code",
   "execution_count": 8,
   "metadata": {},
   "outputs": [],
   "source": [
    "for i in range(5, len(data_test)-5):\n",
    "    x_test.append(data_test[i-5:i])\n",
    "    y_test.append(data_test[i:i+5])"
   ]
  },
  {
   "cell_type": "code",
   "execution_count": 9,
   "metadata": {},
   "outputs": [],
   "source": [
    "x_train , y_train = np.array(x_train), np.array(y_train)\n",
    "x_test , y_test = np.array(x_test), np.array(y_test)"
   ]
  },
  {
   "cell_type": "code",
   "execution_count": 10,
   "metadata": {},
   "outputs": [],
   "source": [
    "x_scaler = MinMaxScaler()\n",
    "y_scaler = MinMaxScaler()\n",
    "x_train = x_scaler.fit_transform(x_train)\n",
    "y_train = y_scaler.fit_transform(y_train)\n",
    "x_test = x_scaler.fit_transform(x_test)\n",
    "y_test = y_scaler.fit_transform(y_test)"
   ]
  },
  {
   "cell_type": "code",
   "execution_count": 11,
   "metadata": {},
   "outputs": [],
   "source": [
    "x_train = x_train.reshape(191,5,1)"
   ]
  },
  {
   "cell_type": "code",
   "execution_count": 12,
   "metadata": {},
   "outputs": [],
   "source": [
    "reg = Sequential()\n",
    "\n",
    "reg.add(LSTM(units=150, activation='relu', return_sequences=True, input_shape=(5,1)))\n",
    "\n",
    "reg.add(LSTM(units=41, activation='relu'))\n",
    "reg.add(Dropout(0.2))\n",
    "\n",
    "reg.add(Dense(5))\n",
    "\n"
   ]
  },
  {
   "cell_type": "code",
   "execution_count": 13,
   "metadata": {},
   "outputs": [],
   "source": [
    "reg.compile(loss='mse', optimizer='adam', metrics=['accuracy'])"
   ]
  },
  {
   "cell_type": "code",
   "execution_count": 14,
   "metadata": {},
   "outputs": [
    {
     "name": "stdout",
     "output_type": "stream",
     "text": [
      "Train on 191 samples\n",
      "Epoch 1/200\n",
      "WARNING:tensorflow:Entity <function Function._initialize_uninitialized_variables.<locals>.initialize_variables at 0x000001FE2A853828> could not be transformed and will be executed as-is. Please report this to the AutoGraph team. When filing the bug, set the verbosity to 10 (on Linux, `export AUTOGRAPH_VERBOSITY=10`) and attach the full output. Cause: module 'gast' has no attribute 'Num'\n",
      "WARNING: Entity <function Function._initialize_uninitialized_variables.<locals>.initialize_variables at 0x000001FE2A853828> could not be transformed and will be executed as-is. Please report this to the AutoGraph team. When filing the bug, set the verbosity to 10 (on Linux, `export AUTOGRAPH_VERBOSITY=10`) and attach the full output. Cause: module 'gast' has no attribute 'Num'\n",
      "191/191 [==============================] - 5s 24ms/sample - loss: 0.1597 - accuracy: 0.2304\n",
      "Epoch 2/200\n",
      "191/191 [==============================] - 1s 3ms/sample - loss: 0.0333 - accuracy: 0.2723TA: 0s - loss: 0.0245 \n",
      "Epoch 3/200\n",
      "191/191 [==============================] - 0s 2ms/sample - loss: 0.0317 - accuracy: 0.3351\n",
      "Epoch 4/200\n",
      "191/191 [==============================] - 0s 3ms/sample - loss: 0.0312 - accuracy: 0.3455\n",
      "Epoch 5/200\n",
      "191/191 [==============================] - 1s 3ms/sample - loss: 0.0270 - accuracy: 0.3717\n",
      "Epoch 6/200\n",
      "191/191 [==============================] - 1s 3ms/sample - loss: 0.0246 - accuracy: 0.2723\n",
      "Epoch 7/200\n",
      "191/191 [==============================] - ETA: 0s - loss: 0.0237 - accuracy: 0.24 - 0s 2ms/sample - loss: 0.0238 - accuracy: 0.2513\n",
      "Epoch 8/200\n",
      "191/191 [==============================] - 0s 2ms/sample - loss: 0.0257 - accuracy: 0.2513\n",
      "Epoch 9/200\n",
      "191/191 [==============================] - 0s 3ms/sample - loss: 0.0236 - accuracy: 0.2723\n",
      "Epoch 10/200\n",
      "191/191 [==============================] - 1s 3ms/sample - loss: 0.0249 - accuracy: 0.3403\n",
      "Epoch 11/200\n",
      "191/191 [==============================] - 0s 3ms/sample - loss: 0.0219 - accuracy: 0.3246\n",
      "Epoch 12/200\n",
      "191/191 [==============================] - 1s 3ms/sample - loss: 0.0225 - accuracy: 0.3194\n",
      "Epoch 13/200\n",
      "191/191 [==============================] - 0s 2ms/sample - loss: 0.0192 - accuracy: 0.2984\n",
      "Epoch 14/200\n",
      "191/191 [==============================] - 0s 3ms/sample - loss: 0.0207 - accuracy: 0.3037\n",
      "Epoch 15/200\n",
      "191/191 [==============================] - 0s 2ms/sample - loss: 0.0232 - accuracy: 0.2827\n",
      "Epoch 16/200\n",
      "191/191 [==============================] - 0s 2ms/sample - loss: 0.0207 - accuracy: 0.3089\n",
      "Epoch 17/200\n",
      "191/191 [==============================] - 0s 3ms/sample - loss: 0.0219 - accuracy: 0.3089\n",
      "Epoch 18/200\n",
      "191/191 [==============================] - 1s 3ms/sample - loss: 0.0207 - accuracy: 0.3089\n",
      "Epoch 19/200\n",
      "191/191 [==============================] - 0s 2ms/sample - loss: 0.0181 - accuracy: 0.3351\n",
      "Epoch 20/200\n",
      "191/191 [==============================] - 0s 2ms/sample - loss: 0.0191 - accuracy: 0.3979\n",
      "Epoch 21/200\n",
      "191/191 [==============================] - 0s 2ms/sample - loss: 0.0182 - accuracy: 0.3665\n",
      "Epoch 22/200\n",
      "191/191 [==============================] - 0s 2ms/sample - loss: 0.0198 - accuracy: 0.3037\n",
      "Epoch 23/200\n",
      "191/191 [==============================] - 0s 3ms/sample - loss: 0.0164 - accuracy: 0.2984\n",
      "Epoch 24/200\n",
      "191/191 [==============================] - 1s 3ms/sample - loss: 0.0195 - accuracy: 0.3665\n",
      "Epoch 25/200\n",
      "191/191 [==============================] - 0s 3ms/sample - loss: 0.0182 - accuracy: 0.3351\n",
      "Epoch 26/200\n",
      "191/191 [==============================] - 0s 2ms/sample - loss: 0.0176 - accuracy: 0.3194\n",
      "Epoch 27/200\n",
      "191/191 [==============================] - 0s 2ms/sample - loss: 0.0189 - accuracy: 0.3560\n",
      "Epoch 28/200\n",
      "191/191 [==============================] - 1s 3ms/sample - loss: 0.0174 - accuracy: 0.3613\n",
      "Epoch 29/200\n",
      "191/191 [==============================] - 1s 3ms/sample - loss: 0.0160 - accuracy: 0.3037\n",
      "Epoch 30/200\n",
      "191/191 [==============================] - 0s 2ms/sample - loss: 0.0182 - accuracy: 0.4188\n",
      "Epoch 31/200\n",
      "191/191 [==============================] - 0s 2ms/sample - loss: 0.0163 - accuracy: 0.3717\n",
      "Epoch 32/200\n",
      "191/191 [==============================] - 0s 2ms/sample - loss: 0.0171 - accuracy: 0.3874\n",
      "Epoch 33/200\n",
      "191/191 [==============================] - 0s 2ms/sample - loss: 0.0165 - accuracy: 0.3717\n",
      "Epoch 34/200\n",
      "191/191 [==============================] - 0s 2ms/sample - loss: 0.0174 - accuracy: 0.3298\n",
      "Epoch 35/200\n",
      "191/191 [==============================] - 1s 3ms/sample - loss: 0.0163 - accuracy: 0.3770\n",
      "Epoch 36/200\n",
      "191/191 [==============================] - 1s 3ms/sample - loss: 0.0166 - accuracy: 0.3298\n",
      "Epoch 37/200\n",
      "191/191 [==============================] - 0s 3ms/sample - loss: 0.0158 - accuracy: 0.31940s - loss: 0.0166 - accu\n",
      "Epoch 38/200\n",
      "191/191 [==============================] - 0s 2ms/sample - loss: 0.0180 - accuracy: 0.3717\n",
      "Epoch 39/200\n",
      "191/191 [==============================] - 0s 2ms/sample - loss: 0.0155 - accuracy: 0.4188\n",
      "Epoch 40/200\n",
      "191/191 [==============================] - 0s 2ms/sample - loss: 0.0169 - accuracy: 0.3560\n",
      "Epoch 41/200\n",
      "191/191 [==============================] - 0s 2ms/sample - loss: 0.0151 - accuracy: 0.3351\n",
      "Epoch 42/200\n",
      "191/191 [==============================] - 0s 2ms/sample - loss: 0.0127 - accuracy: 0.4136\n",
      "Epoch 43/200\n",
      "191/191 [==============================] - 1s 3ms/sample - loss: 0.0195 - accuracy: 0.3874\n",
      "Epoch 44/200\n",
      "191/191 [==============================] - 0s 2ms/sample - loss: 0.0153 - accuracy: 0.37170s - loss: 0.0153 - ac\n",
      "Epoch 45/200\n",
      "191/191 [==============================] - 1s 3ms/sample - loss: 0.0141 - accuracy: 0.3455\n",
      "Epoch 46/200\n",
      "191/191 [==============================] - 0s 3ms/sample - loss: 0.0142 - accuracy: 0.3403\n",
      "Epoch 47/200\n",
      "191/191 [==============================] - 0s 2ms/sample - loss: 0.0150 - accuracy: 0.3770\n",
      "Epoch 48/200\n",
      "191/191 [==============================] - 0s 2ms/sample - loss: 0.0167 - accuracy: 0.3508\n",
      "Epoch 49/200\n",
      "191/191 [==============================] - 0s 2ms/sample - loss: 0.0152 - accuracy: 0.4346\n",
      "Epoch 50/200\n",
      "191/191 [==============================] - 1s 3ms/sample - loss: 0.0160 - accuracy: 0.3560\n",
      "Epoch 51/200\n",
      "191/191 [==============================] - 0s 2ms/sample - loss: 0.0150 - accuracy: 0.4241\n",
      "Epoch 52/200\n",
      "191/191 [==============================] - 0s 2ms/sample - loss: 0.0139 - accuracy: 0.4031\n",
      "Epoch 53/200\n",
      "191/191 [==============================] - 0s 2ms/sample - loss: 0.0154 - accuracy: 0.3822\n",
      "Epoch 54/200\n",
      "191/191 [==============================] - 0s 2ms/sample - loss: 0.0151 - accuracy: 0.3665\n",
      "Epoch 55/200\n",
      "191/191 [==============================] - 0s 2ms/sample - loss: 0.0151 - accuracy: 0.4188\n",
      "Epoch 56/200\n",
      "191/191 [==============================] - 0s 2ms/sample - loss: 0.0146 - accuracy: 0.4084\n",
      "Epoch 57/200\n",
      "191/191 [==============================] - 0s 2ms/sample - loss: 0.0134 - accuracy: 0.3717\n",
      "Epoch 58/200\n",
      "191/191 [==============================] - 0s 2ms/sample - loss: 0.0148 - accuracy: 0.4136\n",
      "Epoch 59/200\n",
      "191/191 [==============================] - 0s 2ms/sample - loss: 0.0141 - accuracy: 0.3665\n",
      "Epoch 60/200\n",
      "191/191 [==============================] - 0s 2ms/sample - loss: 0.0173 - accuracy: 0.3927\n",
      "Epoch 61/200\n",
      "191/191 [==============================] - 0s 2ms/sample - loss: 0.0135 - accuracy: 0.3927\n",
      "Epoch 62/200\n",
      "191/191 [==============================] - 0s 2ms/sample - loss: 0.0154 - accuracy: 0.4241\n",
      "Epoch 63/200\n",
      "191/191 [==============================] - 0s 2ms/sample - loss: 0.0133 - accuracy: 0.3560\n",
      "Epoch 64/200\n",
      "191/191 [==============================] - 0s 2ms/sample - loss: 0.0143 - accuracy: 0.4031\n",
      "Epoch 65/200\n",
      "191/191 [==============================] - 1s 3ms/sample - loss: 0.0148 - accuracy: 0.4241\n",
      "Epoch 66/200\n",
      "191/191 [==============================] - 0s 2ms/sample - loss: 0.0132 - accuracy: 0.4084\n",
      "Epoch 67/200\n",
      "191/191 [==============================] - 0s 2ms/sample - loss: 0.0130 - accuracy: 0.3351\n",
      "Epoch 68/200\n",
      "191/191 [==============================] - 0s 2ms/sample - loss: 0.0132 - accuracy: 0.4084\n",
      "Epoch 69/200\n",
      "191/191 [==============================] - 0s 2ms/sample - loss: 0.0128 - accuracy: 0.3455\n",
      "Epoch 70/200\n",
      "191/191 [==============================] - 0s 2ms/sample - loss: 0.0138 - accuracy: 0.3351\n",
      "Epoch 71/200\n",
      "191/191 [==============================] - 0s 2ms/sample - loss: 0.0126 - accuracy: 0.3665\n",
      "Epoch 72/200\n",
      "191/191 [==============================] - 0s 2ms/sample - loss: 0.0143 - accuracy: 0.3613\n",
      "Epoch 73/200\n",
      "191/191 [==============================] - 1s 3ms/sample - loss: 0.0126 - accuracy: 0.4031\n",
      "Epoch 74/200\n",
      "191/191 [==============================] - 0s 3ms/sample - loss: 0.0137 - accuracy: 0.3613\n",
      "Epoch 75/200\n",
      "191/191 [==============================] - 1s 3ms/sample - loss: 0.0147 - accuracy: 0.3770\n",
      "Epoch 76/200\n",
      "191/191 [==============================] - 0s 3ms/sample - loss: 0.0141 - accuracy: 0.3822\n",
      "Epoch 77/200\n",
      "191/191 [==============================] - 0s 2ms/sample - loss: 0.0131 - accuracy: 0.4136\n",
      "Epoch 78/200\n",
      "191/191 [==============================] - 0s 3ms/sample - loss: 0.0136 - accuracy: 0.4031\n",
      "Epoch 79/200\n",
      "191/191 [==============================] - 0s 3ms/sample - loss: 0.0140 - accuracy: 0.4084\n",
      "Epoch 80/200\n",
      "191/191 [==============================] - 1s 3ms/sample - loss: 0.0133 - accuracy: 0.4346\n",
      "Epoch 81/200\n",
      "191/191 [==============================] - 0s 2ms/sample - loss: 0.0125 - accuracy: 0.3613\n",
      "Epoch 82/200\n",
      "191/191 [==============================] - 0s 3ms/sample - loss: 0.0127 - accuracy: 0.3613\n",
      "Epoch 83/200\n",
      "191/191 [==============================] - 0s 3ms/sample - loss: 0.0126 - accuracy: 0.3665\n",
      "Epoch 84/200\n",
      "191/191 [==============================] - 1s 3ms/sample - loss: 0.0136 - accuracy: 0.3822\n",
      "Epoch 85/200\n",
      "191/191 [==============================] - 0s 3ms/sample - loss: 0.0149 - accuracy: 0.3508\n",
      "Epoch 86/200\n",
      "191/191 [==============================] - 1s 3ms/sample - loss: 0.0133 - accuracy: 0.4084\n",
      "Epoch 87/200\n",
      "191/191 [==============================] - 0s 2ms/sample - loss: 0.0119 - accuracy: 0.4031\n",
      "Epoch 88/200\n",
      "191/191 [==============================] - 0s 2ms/sample - loss: 0.0133 - accuracy: 0.3927\n",
      "Epoch 89/200\n",
      "191/191 [==============================] - 0s 2ms/sample - loss: 0.0124 - accuracy: 0.3770\n",
      "Epoch 90/200\n",
      "191/191 [==============================] - 0s 3ms/sample - loss: 0.0133 - accuracy: 0.3822\n",
      "Epoch 91/200\n",
      "191/191 [==============================] - 0s 3ms/sample - loss: 0.0124 - accuracy: 0.4031\n",
      "Epoch 92/200\n",
      "191/191 [==============================] - 0s 2ms/sample - loss: 0.0113 - accuracy: 0.3927\n",
      "Epoch 93/200\n",
      "191/191 [==============================] - 1s 3ms/sample - loss: 0.0124 - accuracy: 0.3874\n",
      "Epoch 94/200\n",
      "191/191 [==============================] - 0s 2ms/sample - loss: 0.0135 - accuracy: 0.3665\n",
      "Epoch 95/200\n",
      "191/191 [==============================] - 0s 3ms/sample - loss: 0.0137 - accuracy: 0.3927\n",
      "Epoch 96/200\n",
      "191/191 [==============================] - 0s 2ms/sample - loss: 0.0139 - accuracy: 0.4293\n",
      "Epoch 97/200\n",
      "191/191 [==============================] - 1s 3ms/sample - loss: 0.0130 - accuracy: 0.3770\n",
      "Epoch 98/200\n",
      "191/191 [==============================] - 0s 3ms/sample - loss: 0.0119 - accuracy: 0.4503\n",
      "Epoch 99/200\n",
      "191/191 [==============================] - 1s 3ms/sample - loss: 0.0118 - accuracy: 0.3717\n",
      "Epoch 100/200\n",
      "191/191 [==============================] - 0s 2ms/sample - loss: 0.0128 - accuracy: 0.3560\n",
      "Epoch 101/200\n",
      "191/191 [==============================] - 0s 3ms/sample - loss: 0.0125 - accuracy: 0.4136\n",
      "Epoch 102/200\n",
      "191/191 [==============================] - 0s 3ms/sample - loss: 0.0126 - accuracy: 0.4084\n",
      "Epoch 103/200\n",
      "191/191 [==============================] - 0s 3ms/sample - loss: 0.0110 - accuracy: 0.4084\n",
      "Epoch 104/200\n",
      "191/191 [==============================] - 0s 2ms/sample - loss: 0.0132 - accuracy: 0.3665\n",
      "Epoch 105/200\n",
      "191/191 [==============================] - 0s 3ms/sample - loss: 0.0128 - accuracy: 0.4712\n",
      "Epoch 106/200\n",
      "191/191 [==============================] - 1s 3ms/sample - loss: 0.0136 - accuracy: 0.3822\n",
      "Epoch 107/200\n",
      "191/191 [==============================] - 1s 3ms/sample - loss: 0.0148 - accuracy: 0.3298\n",
      "Epoch 108/200\n",
      "191/191 [==============================] - 1s 3ms/sample - loss: 0.0124 - accuracy: 0.4450\n",
      "Epoch 109/200\n",
      "191/191 [==============================] - 1s 3ms/sample - loss: 0.0111 - accuracy: 0.3508\n",
      "Epoch 110/200\n",
      "191/191 [==============================] - 0s 3ms/sample - loss: 0.0120 - accuracy: 0.45030s - loss: 0.0106 - ac\n",
      "Epoch 111/200\n",
      "191/191 [==============================] - 0s 2ms/sample - loss: 0.0131 - accuracy: 0.3455\n",
      "Epoch 112/200\n",
      "191/191 [==============================] - 0s 2ms/sample - loss: 0.0129 - accuracy: 0.3874\n",
      "Epoch 113/200\n",
      "191/191 [==============================] - 0s 3ms/sample - loss: 0.0114 - accuracy: 0.3927\n",
      "Epoch 114/200\n",
      "191/191 [==============================] - 0s 2ms/sample - loss: 0.0117 - accuracy: 0.3979\n",
      "Epoch 115/200\n",
      "191/191 [==============================] - 0s 3ms/sample - loss: 0.0123 - accuracy: 0.4241\n",
      "Epoch 116/200\n",
      "191/191 [==============================] - 0s 3ms/sample - loss: 0.0118 - accuracy: 0.3665\n",
      "Epoch 117/200\n",
      "191/191 [==============================] - 1s 3ms/sample - loss: 0.0119 - accuracy: 0.4136\n",
      "Epoch 118/200\n",
      "191/191 [==============================] - 1s 3ms/sample - loss: 0.0121 - accuracy: 0.4398\n",
      "Epoch 119/200\n",
      "191/191 [==============================] - 0s 3ms/sample - loss: 0.0125 - accuracy: 0.4136\n",
      "Epoch 120/200\n",
      "191/191 [==============================] - 1s 3ms/sample - loss: 0.0118 - accuracy: 0.3717\n",
      "Epoch 121/200\n",
      "191/191 [==============================] - 1s 3ms/sample - loss: 0.0119 - accuracy: 0.4241\n",
      "Epoch 122/200\n",
      "191/191 [==============================] - 0s 3ms/sample - loss: 0.0113 - accuracy: 0.4241\n",
      "Epoch 123/200\n",
      "191/191 [==============================] - 0s 2ms/sample - loss: 0.0128 - accuracy: 0.4241\n",
      "Epoch 124/200\n",
      "191/191 [==============================] - 0s 2ms/sample - loss: 0.0109 - accuracy: 0.3770\n",
      "Epoch 125/200\n",
      "191/191 [==============================] - 0s 3ms/sample - loss: 0.0125 - accuracy: 0.4293\n",
      "Epoch 126/200\n",
      "191/191 [==============================] - 0s 2ms/sample - loss: 0.0118 - accuracy: 0.3665\n",
      "Epoch 127/200\n",
      "191/191 [==============================] - 0s 3ms/sample - loss: 0.0111 - accuracy: 0.3874\n",
      "Epoch 128/200\n",
      "191/191 [==============================] - 1s 3ms/sample - loss: 0.0119 - accuracy: 0.3613\n",
      "Epoch 129/200\n",
      "191/191 [==============================] - 0s 2ms/sample - loss: 0.0125 - accuracy: 0.3874\n",
      "Epoch 130/200\n",
      "191/191 [==============================] - 0s 3ms/sample - loss: 0.0119 - accuracy: 0.3927\n",
      "Epoch 131/200\n",
      "191/191 [==============================] - 0s 3ms/sample - loss: 0.0130 - accuracy: 0.3874\n",
      "Epoch 132/200\n",
      "191/191 [==============================] - 0s 3ms/sample - loss: 0.0115 - accuracy: 0.3770\n",
      "Epoch 133/200\n",
      "191/191 [==============================] - 1s 3ms/sample - loss: 0.0116 - accuracy: 0.3770\n",
      "Epoch 134/200\n",
      "191/191 [==============================] - 0s 2ms/sample - loss: 0.0119 - accuracy: 0.4031\n",
      "Epoch 135/200\n",
      "191/191 [==============================] - 0s 2ms/sample - loss: 0.0118 - accuracy: 0.4136\n",
      "Epoch 136/200\n",
      "191/191 [==============================] - 0s 2ms/sample - loss: 0.0132 - accuracy: 0.3717\n",
      "Epoch 137/200\n",
      "191/191 [==============================] - 0s 2ms/sample - loss: 0.0118 - accuracy: 0.4188\n",
      "Epoch 138/200\n",
      "191/191 [==============================] - 0s 2ms/sample - loss: 0.0118 - accuracy: 0.4293\n",
      "Epoch 139/200\n",
      "191/191 [==============================] - 0s 2ms/sample - loss: 0.0110 - accuracy: 0.4031\n",
      "Epoch 140/200\n",
      "191/191 [==============================] - 0s 3ms/sample - loss: 0.0131 - accuracy: 0.4293\n",
      "Epoch 141/200\n",
      "191/191 [==============================] - 0s 2ms/sample - loss: 0.0109 - accuracy: 0.3979\n",
      "Epoch 142/200\n",
      "191/191 [==============================] - 0s 2ms/sample - loss: 0.0135 - accuracy: 0.4188\n",
      "Epoch 143/200\n",
      "191/191 [==============================] - 0s 3ms/sample - loss: 0.0123 - accuracy: 0.4346\n",
      "Epoch 144/200\n",
      "191/191 [==============================] - 0s 2ms/sample - loss: 0.0116 - accuracy: 0.3822\n",
      "Epoch 145/200\n",
      "191/191 [==============================] - 0s 2ms/sample - loss: 0.0117 - accuracy: 0.3979\n",
      "Epoch 146/200\n",
      "191/191 [==============================] - 0s 2ms/sample - loss: 0.0109 - accuracy: 0.4188\n",
      "Epoch 147/200\n",
      "191/191 [==============================] - 0s 2ms/sample - loss: 0.0115 - accuracy: 0.3822\n",
      "Epoch 148/200\n",
      "191/191 [==============================] - 0s 2ms/sample - loss: 0.0124 - accuracy: 0.4084\n",
      "Epoch 149/200\n",
      "191/191 [==============================] - 0s 2ms/sample - loss: 0.0120 - accuracy: 0.3979\n",
      "Epoch 150/200\n",
      "191/191 [==============================] - 1s 3ms/sample - loss: 0.0113 - accuracy: 0.4031\n",
      "Epoch 151/200\n",
      "191/191 [==============================] - 0s 2ms/sample - loss: 0.0112 - accuracy: 0.3508\n",
      "Epoch 152/200\n",
      "191/191 [==============================] - 0s 3ms/sample - loss: 0.0117 - accuracy: 0.4084\n",
      "Epoch 153/200\n",
      "191/191 [==============================] - 1s 3ms/sample - loss: 0.0112 - accuracy: 0.4031\n",
      "Epoch 154/200\n",
      "191/191 [==============================] - 1s 3ms/sample - loss: 0.0121 - accuracy: 0.3927\n",
      "Epoch 155/200\n",
      "191/191 [==============================] - 0s 3ms/sample - loss: 0.0112 - accuracy: 0.4136\n",
      "Epoch 156/200\n",
      "191/191 [==============================] - 1s 3ms/sample - loss: 0.0115 - accuracy: 0.3560\n",
      "Epoch 157/200\n",
      "191/191 [==============================] - 0s 3ms/sample - loss: 0.0115 - accuracy: 0.39790s - loss: 0.0129 - accura\n",
      "Epoch 158/200\n",
      "191/191 [==============================] - 0s 3ms/sample - loss: 0.0105 - accuracy: 0.4136\n",
      "Epoch 159/200\n",
      "191/191 [==============================] - 0s 2ms/sample - loss: 0.0109 - accuracy: 0.4293\n",
      "Epoch 160/200\n",
      "191/191 [==============================] - 0s 3ms/sample - loss: 0.0110 - accuracy: 0.4450\n",
      "Epoch 161/200\n",
      "191/191 [==============================] - 0s 2ms/sample - loss: 0.0116 - accuracy: 0.3508\n",
      "Epoch 162/200\n",
      "191/191 [==============================] - 0s 2ms/sample - loss: 0.0121 - accuracy: 0.3822\n",
      "Epoch 163/200\n",
      "191/191 [==============================] - ETA: 0s - loss: 0.0122 - accuracy: 0.39 - 1s 3ms/sample - loss: 0.0122 - accuracy: 0.3927\n",
      "Epoch 164/200\n",
      "191/191 [==============================] - 0s 2ms/sample - loss: 0.0119 - accuracy: 0.4398\n",
      "Epoch 165/200\n",
      "191/191 [==============================] - 0s 2ms/sample - loss: 0.0115 - accuracy: 0.3979\n",
      "Epoch 166/200\n",
      "191/191 [==============================] - 0s 3ms/sample - loss: 0.0116 - accuracy: 0.3770\n",
      "Epoch 167/200\n",
      "191/191 [==============================] - 1s 3ms/sample - loss: 0.0109 - accuracy: 0.4136\n",
      "Epoch 168/200\n",
      "191/191 [==============================] - 0s 2ms/sample - loss: 0.0106 - accuracy: 0.4031\n",
      "Epoch 169/200\n",
      "191/191 [==============================] - 0s 3ms/sample - loss: 0.0107 - accuracy: 0.3770\n",
      "Epoch 170/200\n",
      "191/191 [==============================] - 1s 3ms/sample - loss: 0.0118 - accuracy: 0.40310s - loss: 0.0094 - \n",
      "Epoch 171/200\n",
      "191/191 [==============================] - 0s 2ms/sample - loss: 0.0120 - accuracy: 0.4188\n",
      "Epoch 172/200\n",
      "191/191 [==============================] - 0s 2ms/sample - loss: 0.0110 - accuracy: 0.4241\n",
      "Epoch 173/200\n",
      "191/191 [==============================] - 0s 2ms/sample - loss: 0.0109 - accuracy: 0.4188\n",
      "Epoch 174/200\n",
      "191/191 [==============================] - 0s 2ms/sample - loss: 0.0111 - accuracy: 0.3822\n",
      "Epoch 175/200\n",
      "191/191 [==============================] - 0s 2ms/sample - loss: 0.0112 - accuracy: 0.3979\n",
      "Epoch 176/200\n",
      "191/191 [==============================] - 1s 3ms/sample - loss: 0.0115 - accuracy: 0.3927\n",
      "Epoch 177/200\n",
      "191/191 [==============================] - 0s 2ms/sample - loss: 0.0114 - accuracy: 0.4188\n",
      "Epoch 178/200\n",
      "191/191 [==============================] - 0s 2ms/sample - loss: 0.0111 - accuracy: 0.4031\n",
      "Epoch 179/200\n",
      "191/191 [==============================] - 1s 3ms/sample - loss: 0.0108 - accuracy: 0.4136\n",
      "Epoch 180/200\n",
      "191/191 [==============================] - 0s 3ms/sample - loss: 0.0113 - accuracy: 0.4241\n",
      "Epoch 181/200\n",
      "191/191 [==============================] - 0s 2ms/sample - loss: 0.0124 - accuracy: 0.3665\n",
      "Epoch 182/200\n",
      "191/191 [==============================] - 0s 2ms/sample - loss: 0.0109 - accuracy: 0.4031\n",
      "Epoch 183/200\n",
      "191/191 [==============================] - 1s 3ms/sample - loss: 0.0112 - accuracy: 0.3979\n",
      "Epoch 184/200\n",
      "191/191 [==============================] - 0s 3ms/sample - loss: 0.0118 - accuracy: 0.4241\n",
      "Epoch 185/200\n",
      "191/191 [==============================] - 0s 2ms/sample - loss: 0.0115 - accuracy: 0.3874\n",
      "Epoch 186/200\n",
      "191/191 [==============================] - 0s 2ms/sample - loss: 0.0115 - accuracy: 0.4503\n",
      "Epoch 187/200\n",
      "191/191 [==============================] - 0s 2ms/sample - loss: 0.0122 - accuracy: 0.3822\n",
      "Epoch 188/200\n",
      "191/191 [==============================] - 0s 3ms/sample - loss: 0.0125 - accuracy: 0.3874\n",
      "Epoch 189/200\n",
      "191/191 [==============================] - 0s 2ms/sample - loss: 0.0111 - accuracy: 0.4607\n",
      "Epoch 190/200\n",
      "191/191 [==============================] - 0s 2ms/sample - loss: 0.0110 - accuracy: 0.4188\n",
      "Epoch 191/200\n",
      "191/191 [==============================] - 0s 2ms/sample - loss: 0.0113 - accuracy: 0.4031\n",
      "Epoch 192/200\n",
      "191/191 [==============================] - 0s 2ms/sample - loss: 0.0117 - accuracy: 0.3979\n",
      "Epoch 193/200\n",
      "191/191 [==============================] - 0s 3ms/sample - loss: 0.0117 - accuracy: 0.4084\n",
      "Epoch 194/200\n",
      "191/191 [==============================] - 0s 3ms/sample - loss: 0.0121 - accuracy: 0.3979\n",
      "Epoch 195/200\n",
      "191/191 [==============================] - 0s 2ms/sample - loss: 0.0105 - accuracy: 0.3665\n",
      "Epoch 196/200\n",
      "191/191 [==============================] - 0s 2ms/sample - loss: 0.0116 - accuracy: 0.3717\n",
      "Epoch 197/200\n",
      "191/191 [==============================] - 0s 2ms/sample - loss: 0.0110 - accuracy: 0.4188\n",
      "Epoch 198/200\n",
      "191/191 [==============================] - 0s 2ms/sample - loss: 0.0121 - accuracy: 0.4188\n",
      "Epoch 199/200\n",
      "191/191 [==============================] - 0s 3ms/sample - loss: 0.0119 - accuracy: 0.4346\n",
      "Epoch 200/200\n",
      "191/191 [==============================] - 0s 2ms/sample - loss: 0.0127 - accuracy: 0.4346\n"
     ]
    },
    {
     "data": {
      "text/plain": [
       "<tensorflow.python.keras.callbacks.History at 0x1fe2a835c08>"
      ]
     },
     "execution_count": 14,
     "metadata": {},
     "output_type": "execute_result"
    }
   ],
   "source": [
    "reg.fit(x_train, y_train, epochs=200, batch_size=5)"
   ]
  },
  {
   "cell_type": "code",
   "execution_count": 18,
   "metadata": {},
   "outputs": [],
   "source": [
    "x_test = x_test.reshape(35,5,1)"
   ]
  },
  {
   "cell_type": "code",
   "execution_count": 19,
   "metadata": {},
   "outputs": [],
   "source": [
    "y_pred = reg.predict(x_test)"
   ]
  },
  {
   "cell_type": "code",
   "execution_count": 20,
   "metadata": {},
   "outputs": [],
   "source": [
    "y_test = y_scaler.inverse_transform(y_test)"
   ]
  },
  {
   "cell_type": "code",
   "execution_count": 21,
   "metadata": {},
   "outputs": [
    {
     "data": {
      "text/plain": [
       "((35, 5), (35, 5))"
      ]
     },
     "execution_count": 21,
     "metadata": {},
     "output_type": "execute_result"
    }
   ],
   "source": [
    "y_pred.shape, y_test.shape"
   ]
  },
  {
   "cell_type": "code",
   "execution_count": 22,
   "metadata": {},
   "outputs": [],
   "source": [
    "y_pred = y_scaler.inverse_transform(y_pred)"
   ]
  },
  {
   "cell_type": "code",
   "execution_count": 23,
   "metadata": {},
   "outputs": [],
   "source": [
    "from sklearn.metrics import mean_squared_error "
   ]
  },
  {
   "cell_type": "code",
   "execution_count": 24,
   "metadata": {},
   "outputs": [],
   "source": [
    "def evaluating_model(y_test,y_pred):\n",
    "    scores=[]\n",
    "    \n",
    "    for i in range(y_test.shape[1]):\n",
    "        mse = mean_squared_error(y_test[:,i], y_pred[:,i])\n",
    "        rmse = np.sqrt(mse)\n",
    "        scores.append(rmse)\n",
    "        \n",
    "    return scores"
   ]
  },
  {
   "cell_type": "code",
   "execution_count": 25,
   "metadata": {},
   "outputs": [
    {
     "data": {
      "text/plain": [
       "[7.942394676421415,\n",
       " 9.862198609194463,\n",
       " 10.751808687184155,\n",
       " 11.236444379350752,\n",
       " 10.919847683186156]"
      ]
     },
     "execution_count": 25,
     "metadata": {},
     "output_type": "execute_result"
    }
   ],
   "source": [
    "evaluating_model(y_test,y_pred)"
   ]
  },
  {
   "cell_type": "code",
   "execution_count": 28,
   "metadata": {},
   "outputs": [
    {
     "data": {
      "text/plain": [
       "(2.918321435346, 2.3947860029656005, 1.7930421077041254)"
      ]
     },
     "execution_count": 28,
     "metadata": {},
     "output_type": "execute_result"
    }
   ],
   "source": [
    "np.std(y_test[0]), np.std(y_test[1]), np.std(y_test[2])"
   ]
  },
  {
   "cell_type": "code",
   "execution_count": 31,
   "metadata": {},
   "outputs": [],
   "source": [
    "pred = y_pred.reshape(175,1)\n",
    "test = y_test.reshape(175,1)"
   ]
  },
  {
   "cell_type": "code",
   "execution_count": 37,
   "metadata": {},
   "outputs": [
    {
     "data": {
      "image/png": "[encoded data removed]",
      "text/plain": [
       "<Figure size 1008x360 with 1 Axes>"
      ]
     },
     "metadata": {
      "needs_background": "light"
     },
     "output_type": "display_data"
    }
   ],
   "source": [
    "plt.figure(figsize=(14,5))\n",
    "plt.plot(pred, color='red', label='Predicted')\n",
    "plt.plot(test, color='blue', label='True Values')\n",
    "plt.legend()\n",
    "plt.ylabel(' Stock Price INFY')\n",
    "plt.title('INFY Stock Price VS ML Prediction')\n",
    "plt.grid()"
   ]
  },
  {
   "cell_type": "code",
   "execution_count": null,
   "metadata": {},
   "outputs": [],
   "source": []
  }
 ],
 "metadata": {
  "kernelspec": {
   "display_name": "Python 3",
   "language": "python",
   "name": "python3"
  },
  "language_info": {
   "codemirror_mode": {
    "name": "ipython",
    "version": 3
   },
   "file_extension": ".py",
   "mimetype": "text/x-python",
   "name": "python",
   "nbconvert_exporter": "python",
   "pygments_lexer": "ipython3",
   "version": "3.7.4"
  }
 },
 "nbformat": 4,
 "nbformat_minor": 2
}
